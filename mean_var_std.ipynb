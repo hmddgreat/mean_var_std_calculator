{
 "cells": [
  {
   "cell_type": "code",
   "execution_count": 2,
   "id": "0ec0edff-b2ed-43a8-94e0-fb80928f43a5",
   "metadata": {
    "tags": []
   },
   "outputs": [
    {
     "data": {
      "text/plain": [
       "{'mean': [[3.0, 4.0, 5.0], [1.0, 4.0, 7.0], 4.0],\n",
       " 'variance': [[6.0, 6.0, 6.0],\n",
       "  [0.6666666666666666, 0.6666666666666666, 0.6666666666666666],\n",
       "  6.666666666666667],\n",
       " 'standard deviation': [[2.449489742783178,\n",
       "   2.449489742783178,\n",
       "   2.449489742783178],\n",
       "  [0.816496580927726, 0.816496580927726, 0.816496580927726],\n",
       "  2.581988897471611],\n",
       " 'max': [[6, 7, 8], [2, 5, 8], 8],\n",
       " 'min': [[0, 1, 2], [0, 3, 6], 0],\n",
       " 'sum': [[9, 12, 15], [3, 12, 21], 36]}"
      ]
     },
     "execution_count": 2,
     "metadata": {},
     "output_type": "execute_result"
    }
   ],
   "source": [
    "import numpy as np\n",
    "\n",
    "def calculate(num):\n",
    "    try:\n",
    "        numbers = np.array(num)\n",
    "        if numbers.size != 9:\n",
    "            raise ValueError ('Exactly Nine numbers are required')\n",
    "        numbers = np.array(num).reshape(3,3)\n",
    "        \n",
    "        return { \n",
    "        'mean': [[np.mean(numbers[:, 0]), np.mean(numbers[:, 1]), np.mean(numbers[:, 2])], [np.mean(numbers[0]), np.mean(numbers[1]), np.mean(numbers[2])], np.mean(numbers)],\n",
    "        'variance': [[np.var(numbers[:, 0]), np.var(numbers[:, 1]), np.var(numbers[:, 2])], [np.var(numbers[0]), np.var(numbers[1]), np.var(numbers[2])], np.var(numbers)],\n",
    "        'standard deviation': [[np.std(numbers[:, 0]), np.std(numbers[:, 1]), np.std(numbers[:, 2])], [np.std(numbers[0]), np.std(numbers[1]), np.std(numbers[2])], np.std(numbers)],\n",
    "        'max': [[np.max(numbers[:, 0]), np.max(numbers[:, 1]), np.max(numbers[:, 2])], [np.max(numbers[0]), np.max(numbers[1]), np.max(numbers[2])], np.max(numbers)],\n",
    "        'min': [[np.min(numbers[:, 0]), np.min(numbers[:, 1]), np.min(numbers[:, 2])], [np.min(numbers[0]), np.min(numbers[1]), np.min(numbers[2])], np.min(numbers)],\n",
    "        'sum': [[np.sum(numbers[:, 0]), np.sum(numbers[:, 1]), np.sum(numbers[:, 2])], [np.sum(numbers[0]), np.sum(numbers[1]), np.sum(numbers[2])], np.sum(numbers)]\n",
    "                }\n",
    "    except ValueError as ve: \n",
    "        print(f\"Error: {ve}\")\n",
    "        \n"
   ]
  }
 ],
 "metadata": {
  "kernelspec": {
   "display_name": "Python 3 (ipykernel)",
   "language": "python",
   "name": "python3"
  },
  "language_info": {
   "codemirror_mode": {
    "name": "ipython",
    "version": 3
   },
   "file_extension": ".py",
   "mimetype": "text/x-python",
   "name": "python",
   "nbconvert_exporter": "python",
   "pygments_lexer": "ipython3",
   "version": "3.11.5"
  }
 },
 "nbformat": 4,
 "nbformat_minor": 5
}
